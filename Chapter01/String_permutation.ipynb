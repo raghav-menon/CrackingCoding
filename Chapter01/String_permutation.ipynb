{
 "cells": [
  {
   "cell_type": "code",
   "execution_count": 1,
   "id": "cba833d7",
   "metadata": {},
   "outputs": [],
   "source": [
    "sTr1 = 'abcd'\n",
    "sTr2 = 'dabc'\n",
    "sTr3 = 'test'\n",
    "sTr4 = 'ttst'"
   ]
  },
  {
   "cell_type": "code",
   "execution_count": 2,
   "id": "73decb17",
   "metadata": {},
   "outputs": [],
   "source": [
    "def sort_method(sT:str, sT1:str):\n",
    "    sort1_ = ''.join(sorted(sT))\n",
    "    sort2_ = ''.join(sorted(sT1))\n",
    "    if sort1_ == sort2_:\n",
    "        return True\n",
    "    \n",
    "    return False   "
   ]
  },
  {
   "cell_type": "code",
   "execution_count": 3,
   "id": "5434a52e",
   "metadata": {},
   "outputs": [
    {
     "data": {
      "text/plain": [
       "True"
      ]
     },
     "execution_count": 3,
     "metadata": {},
     "output_type": "execute_result"
    }
   ],
   "source": [
    "sort_method(sTr1, sTr2)"
   ]
  },
  {
   "cell_type": "code",
   "execution_count": 4,
   "id": "711e24da",
   "metadata": {},
   "outputs": [
    {
     "data": {
      "text/plain": [
       "False"
      ]
     },
     "execution_count": 4,
     "metadata": {},
     "output_type": "execute_result"
    }
   ],
   "source": [
    "sort_method(sTr3, sTr4)"
   ]
  },
  {
   "cell_type": "code",
   "execution_count": 5,
   "id": "e078bfa5",
   "metadata": {},
   "outputs": [
    {
     "data": {
      "text/plain": [
       "False"
      ]
     },
     "execution_count": 5,
     "metadata": {},
     "output_type": "execute_result"
    }
   ],
   "source": [
    "sort_method(sTr1, sTr3)"
   ]
  },
  {
   "cell_type": "code",
   "execution_count": 15,
   "id": "c4c091d1",
   "metadata": {},
   "outputs": [],
   "source": [
    "def ascii_arr(sT:str, sT1:str):\n",
    "    Max_chars = 256\n",
    "    count1 = Max_chars*[0]\n",
    "    count2 = Max_chars*[0]\n",
    "    \n",
    "    for i in list(sT):\n",
    "        count1[ord(i)] +=  1\n",
    "    \n",
    "    for i in list(sT1):\n",
    "        count2[ord(i)] +=  1\n",
    "        \n",
    "    for i in range(Max_chars):\n",
    "        if count1[i] != count2[i]:\n",
    "            return False\n",
    "    \n",
    "    return True"
   ]
  },
  {
   "cell_type": "code",
   "execution_count": 16,
   "id": "eaef405a",
   "metadata": {},
   "outputs": [
    {
     "data": {
      "text/plain": [
       "False"
      ]
     },
     "execution_count": 16,
     "metadata": {},
     "output_type": "execute_result"
    }
   ],
   "source": [
    "ascii_arr(sTr1, sTr3)"
   ]
  },
  {
   "cell_type": "code",
   "execution_count": 17,
   "id": "3aa66005",
   "metadata": {},
   "outputs": [
    {
     "data": {
      "text/plain": [
       "True"
      ]
     },
     "execution_count": 17,
     "metadata": {},
     "output_type": "execute_result"
    }
   ],
   "source": [
    "ascii_arr(sTr1, sTr2)"
   ]
  },
  {
   "cell_type": "code",
   "execution_count": 18,
   "id": "68f88baf",
   "metadata": {},
   "outputs": [
    {
     "data": {
      "text/plain": [
       "False"
      ]
     },
     "execution_count": 18,
     "metadata": {},
     "output_type": "execute_result"
    }
   ],
   "source": [
    "ascii_arr(sTr3, sTr4)"
   ]
  },
  {
   "cell_type": "code",
   "execution_count": null,
   "id": "f2fced4e",
   "metadata": {},
   "outputs": [],
   "source": []
  }
 ],
 "metadata": {
  "kernelspec": {
   "display_name": "Python 3 (ipykernel)",
   "language": "python",
   "name": "python3"
  },
  "language_info": {
   "codemirror_mode": {
    "name": "ipython",
    "version": 3
   },
   "file_extension": ".py",
   "mimetype": "text/x-python",
   "name": "python",
   "nbconvert_exporter": "python",
   "pygments_lexer": "ipython3",
   "version": "3.9.7"
  }
 },
 "nbformat": 4,
 "nbformat_minor": 5
}
