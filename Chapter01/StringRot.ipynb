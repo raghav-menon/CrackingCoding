{
 "cells": [
  {
   "cell_type": "code",
   "execution_count": 7,
   "id": "56233e68",
   "metadata": {},
   "outputs": [],
   "source": [
    "sTr1 = \"ABCD\"\n",
    "sTr2 = 'DABC'"
   ]
  },
  {
   "cell_type": "code",
   "execution_count": 8,
   "id": "a1920062",
   "metadata": {},
   "outputs": [],
   "source": [
    "def sTrRot(sTr1:str, sTr2:str):\n",
    "    if len(sTr1) != len(sTr2):\n",
    "        return False\n",
    "    \n",
    "    temp = sTr1 + sTr1\n",
    "    if temp.count(sTr2) > 0:\n",
    "        return True\n",
    "    \n",
    "    return False"
   ]
  },
  {
   "cell_type": "code",
   "execution_count": 9,
   "id": "64767440",
   "metadata": {},
   "outputs": [
    {
     "data": {
      "text/plain": [
       "True"
      ]
     },
     "execution_count": 9,
     "metadata": {},
     "output_type": "execute_result"
    }
   ],
   "source": [
    "sTrRot(sTr1,sTr2)"
   ]
  }
 ],
 "metadata": {
  "kernelspec": {
   "display_name": "Python 3 (ipykernel)",
   "language": "python",
   "name": "python3"
  },
  "language_info": {
   "codemirror_mode": {
    "name": "ipython",
    "version": 3
   },
   "file_extension": ".py",
   "mimetype": "text/x-python",
   "name": "python",
   "nbconvert_exporter": "python",
   "pygments_lexer": "ipython3",
   "version": "3.9.7"
  }
 },
 "nbformat": 4,
 "nbformat_minor": 5
}
