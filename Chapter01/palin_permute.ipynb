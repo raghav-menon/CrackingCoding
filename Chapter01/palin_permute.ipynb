{
 "cells": [
  {
   "cell_type": "code",
   "execution_count": 5,
   "id": "d0828f8c",
   "metadata": {},
   "outputs": [],
   "source": [
    "sTr = 'geeksforgeeks'\n",
    "sTr1 = 'geeksogeeks'"
   ]
  },
  {
   "cell_type": "code",
   "execution_count": 4,
   "id": "ee844507",
   "metadata": {},
   "outputs": [],
   "source": [
    "def palin_permute(sT:str):\n",
    "    count = 256*[0]\n",
    "    \n",
    "    for j in list(sT):\n",
    "        count[ord(j)] += 1\n",
    "    \n",
    "    odd = 0\n",
    "    \n",
    "    for j in range(len(count)):\n",
    "        if count[j]%2 !=0:\n",
    "            odd+=1\n",
    "    \n",
    "    if odd > 1:\n",
    "        return False\n",
    "    \n",
    "    return True"
   ]
  },
  {
   "cell_type": "code",
   "execution_count": 7,
   "id": "38b6a39c",
   "metadata": {},
   "outputs": [
    {
     "data": {
      "text/plain": [
       "False"
      ]
     },
     "execution_count": 7,
     "metadata": {},
     "output_type": "execute_result"
    }
   ],
   "source": [
    "palin_permute(sTr)"
   ]
  },
  {
   "cell_type": "code",
   "execution_count": 8,
   "id": "95ae7594",
   "metadata": {},
   "outputs": [
    {
     "data": {
      "text/plain": [
       "True"
      ]
     },
     "execution_count": 8,
     "metadata": {},
     "output_type": "execute_result"
    }
   ],
   "source": [
    "palin_permute(sTr1)"
   ]
  },
  {
   "cell_type": "code",
   "execution_count": 11,
   "id": "c9c3526a",
   "metadata": {},
   "outputs": [
    {
     "data": {
      "text/plain": [
       "False"
      ]
     },
     "execution_count": 11,
     "metadata": {},
     "output_type": "execute_result"
    }
   ],
   "source": [
    "palin_permute('ttokot')"
   ]
  },
  {
   "cell_type": "code",
   "execution_count": null,
   "id": "a5f34a0a",
   "metadata": {},
   "outputs": [],
   "source": []
  }
 ],
 "metadata": {
  "kernelspec": {
   "display_name": "Python 3 (ipykernel)",
   "language": "python",
   "name": "python3"
  },
  "language_info": {
   "codemirror_mode": {
    "name": "ipython",
    "version": 3
   },
   "file_extension": ".py",
   "mimetype": "text/x-python",
   "name": "python",
   "nbconvert_exporter": "python",
   "pygments_lexer": "ipython3",
   "version": "3.9.7"
  }
 },
 "nbformat": 4,
 "nbformat_minor": 5
}
