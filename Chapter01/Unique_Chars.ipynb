{
 "cells": [
  {
   "cell_type": "code",
   "execution_count": 1,
   "id": "01ebb175",
   "metadata": {},
   "outputs": [],
   "source": [
    "sTr = \"geeksforgeeks\"\n",
    "sTr1 = 'zephyr'"
   ]
  },
  {
   "cell_type": "code",
   "execution_count": 5,
   "id": "0efd2697",
   "metadata": {},
   "outputs": [],
   "source": [
    "## Brute Force Method --> Time complexity o(n^2)\n",
    "def brut_force_comp(sT: str):\n",
    "    \n",
    "    for i in range(len(sT)):\n",
    "        for j in range(i+1, len(sT)-1):\n",
    "            if sT[i] == sT[j]:\n",
    "                return True\n",
    "            \n",
    "    return False  \n",
    "    "
   ]
  },
  {
   "cell_type": "code",
   "execution_count": 6,
   "id": "ad9eec6d",
   "metadata": {},
   "outputs": [
    {
     "data": {
      "text/plain": [
       "True"
      ]
     },
     "execution_count": 6,
     "metadata": {},
     "output_type": "execute_result"
    }
   ],
   "source": [
    "brut_force_comp(sTr)"
   ]
  },
  {
   "cell_type": "code",
   "execution_count": 7,
   "id": "46ec420f",
   "metadata": {},
   "outputs": [
    {
     "data": {
      "text/plain": [
       "False"
      ]
     },
     "execution_count": 7,
     "metadata": {},
     "output_type": "execute_result"
    }
   ],
   "source": [
    "brut_force_comp(sTr1)"
   ]
  },
  {
   "cell_type": "code",
   "execution_count": 15,
   "id": "0fa9a742",
   "metadata": {},
   "outputs": [],
   "source": [
    "## Sorting method --> Time Complexity o(nlog(n))\n",
    "\n",
    "def sortingm(sT:str):\n",
    "    sort_ = sorted(sT)\n",
    "    for i in range(len(sort_)-1):\n",
    "        if sort_[i] == sort_[i+1]:\n",
    "            return True\n",
    "    return False"
   ]
  },
  {
   "cell_type": "code",
   "execution_count": 16,
   "id": "1a7d3eed",
   "metadata": {},
   "outputs": [
    {
     "data": {
      "text/plain": [
       "True"
      ]
     },
     "execution_count": 16,
     "metadata": {},
     "output_type": "execute_result"
    }
   ],
   "source": [
    "sortingm(sTr)"
   ]
  },
  {
   "cell_type": "code",
   "execution_count": 17,
   "id": "fae4e8b3",
   "metadata": {},
   "outputs": [
    {
     "data": {
      "text/plain": [
       "False"
      ]
     },
     "execution_count": 17,
     "metadata": {},
     "output_type": "execute_result"
    }
   ],
   "source": [
    "sortingm(sTr1)"
   ]
  },
  {
   "cell_type": "code",
   "execution_count": 27,
   "id": "f26f02f8",
   "metadata": {},
   "outputs": [],
   "source": [
    "# Addititonal Data Structure --> Time Complexity o(n)\n",
    "def add_data_struct(sT:str):\n",
    "    Max_char = 256\n",
    "    ascii_ar = Max_char*[False]\n",
    "    for i in sT:\n",
    "        if ascii_ar[ord(i)] == True:\n",
    "            return True\n",
    "        ascii_ar[ord(i)] = True\n",
    "    return False"
   ]
  },
  {
   "cell_type": "code",
   "execution_count": 28,
   "id": "755edf47",
   "metadata": {},
   "outputs": [
    {
     "data": {
      "text/plain": [
       "True"
      ]
     },
     "execution_count": 28,
     "metadata": {},
     "output_type": "execute_result"
    }
   ],
   "source": [
    "add_data_struct(sTr)"
   ]
  },
  {
   "cell_type": "code",
   "execution_count": 29,
   "id": "05f74c89",
   "metadata": {},
   "outputs": [
    {
     "data": {
      "text/plain": [
       "False"
      ]
     },
     "execution_count": 29,
     "metadata": {},
     "output_type": "execute_result"
    }
   ],
   "source": [
    "add_data_struct(sTr1)"
   ]
  },
  {
   "cell_type": "code",
   "execution_count": null,
   "id": "1a3f239b",
   "metadata": {},
   "outputs": [],
   "source": []
  }
 ],
 "metadata": {
  "kernelspec": {
   "display_name": "Python 3 (ipykernel)",
   "language": "python",
   "name": "python3"
  },
  "language_info": {
   "codemirror_mode": {
    "name": "ipython",
    "version": 3
   },
   "file_extension": ".py",
   "mimetype": "text/x-python",
   "name": "python",
   "nbconvert_exporter": "python",
   "pygments_lexer": "ipython3",
   "version": "3.9.7"
  }
 },
 "nbformat": 4,
 "nbformat_minor": 5
}
