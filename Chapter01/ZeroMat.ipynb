{
 "cells": [
  {
   "cell_type": "code",
   "execution_count": 5,
   "id": "d8426a98",
   "metadata": {},
   "outputs": [],
   "source": [
    "import numpy as np"
   ]
  },
  {
   "cell_type": "code",
   "execution_count": 17,
   "id": "ed37d2d8",
   "metadata": {},
   "outputs": [],
   "source": [
    "M = np.asarray([ [2, 0, 7, 5],\n",
    "        [6, 1, 4, 3],\n",
    "        [5, 8, 0, 6] ])"
   ]
  },
  {
   "cell_type": "code",
   "execution_count": 18,
   "id": "b022db2f",
   "metadata": {},
   "outputs": [],
   "source": [
    "def Zeromat(mat):\n",
    "    row = mat.shape[0]\n",
    "    col = mat.shape[1]\n",
    "    \n",
    "    Row = row*[False]\n",
    "    Col = col*[False]\n",
    "    \n",
    "    for i in range(row):\n",
    "        for j in range(col):\n",
    "            if mat[i][j] == 0:\n",
    "                Row[i] = True\n",
    "                Col[j] = True\n",
    "    \n",
    "    for i in range(row):\n",
    "        for j in range(col):\n",
    "            if Row[i] == True or Col[j] == True:\n",
    "                mat[i][j] = 0\n",
    "    \n",
    "    return mat"
   ]
  },
  {
   "cell_type": "code",
   "execution_count": 19,
   "id": "ec13b903",
   "metadata": {},
   "outputs": [
    {
     "data": {
      "text/plain": [
       "array([[0, 0, 0, 0],\n",
       "       [6, 0, 0, 3],\n",
       "       [0, 0, 0, 0]])"
      ]
     },
     "execution_count": 19,
     "metadata": {},
     "output_type": "execute_result"
    }
   ],
   "source": [
    "Zeromat(M)"
   ]
  },
  {
   "cell_type": "code",
   "execution_count": null,
   "id": "d6ebdf79",
   "metadata": {},
   "outputs": [],
   "source": []
  }
 ],
 "metadata": {
  "kernelspec": {
   "display_name": "Python 3 (ipykernel)",
   "language": "python",
   "name": "python3"
  },
  "language_info": {
   "codemirror_mode": {
    "name": "ipython",
    "version": 3
   },
   "file_extension": ".py",
   "mimetype": "text/x-python",
   "name": "python",
   "nbconvert_exporter": "python",
   "pygments_lexer": "ipython3",
   "version": "3.9.7"
  }
 },
 "nbformat": 4,
 "nbformat_minor": 5
}
