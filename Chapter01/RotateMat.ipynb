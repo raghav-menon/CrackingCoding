{
 "cells": [
  {
   "cell_type": "code",
   "execution_count": 1,
   "id": "89431878",
   "metadata": {},
   "outputs": [],
   "source": [
    "import numpy as np"
   ]
  },
  {
   "cell_type": "code",
   "execution_count": 14,
   "id": "3401fcce",
   "metadata": {},
   "outputs": [],
   "source": [
    "mat = np.random.randint(10, size = (2,2))"
   ]
  },
  {
   "cell_type": "code",
   "execution_count": 15,
   "id": "412cd74d",
   "metadata": {},
   "outputs": [
    {
     "data": {
      "text/plain": [
       "array([[5, 2],\n",
       "       [5, 0]])"
      ]
     },
     "execution_count": 15,
     "metadata": {},
     "output_type": "execute_result"
    }
   ],
   "source": [
    "mat"
   ]
  },
  {
   "cell_type": "code",
   "execution_count": 16,
   "id": "f2d43ac7",
   "metadata": {},
   "outputs": [],
   "source": [
    "def rotMat(A):\n",
    "    \n",
    "    N = len(A[0])\n",
    "    \n",
    "    for i in range(N//2):\n",
    "        for j in range(N-i-1):\n",
    "            temp = A[i][j]\n",
    "            A[i][j] = A[N-1-j][i]\n",
    "            A[N-1-j][i] = A[N-1-i][N-1-j]\n",
    "            A[N-1-i][N-1-j] = A[j][N-1-i]\n",
    "            A[j][N-1-i] = temp"
   ]
  },
  {
   "cell_type": "code",
   "execution_count": 17,
   "id": "2a2de221",
   "metadata": {},
   "outputs": [],
   "source": [
    "# Function to print the matrix\n",
    "def printMatrix(A):\n",
    "    N = len(A[0])\n",
    "    for i in range(N):\n",
    "        print(A[i])"
   ]
  },
  {
   "cell_type": "code",
   "execution_count": 18,
   "id": "50b7b67e",
   "metadata": {},
   "outputs": [
    {
     "name": "stdout",
     "output_type": "stream",
     "text": [
      "[5 5]\n",
      "[0 2]\n"
     ]
    }
   ],
   "source": [
    "rotMat(mat)\n",
    "printMatrix(mat)"
   ]
  },
  {
   "cell_type": "code",
   "execution_count": null,
   "id": "e9f1822d",
   "metadata": {},
   "outputs": [],
   "source": []
  }
 ],
 "metadata": {
  "kernelspec": {
   "display_name": "Python 3 (ipykernel)",
   "language": "python",
   "name": "python3"
  },
  "language_info": {
   "codemirror_mode": {
    "name": "ipython",
    "version": 3
   },
   "file_extension": ".py",
   "mimetype": "text/x-python",
   "name": "python",
   "nbconvert_exporter": "python",
   "pygments_lexer": "ipython3",
   "version": "3.9.7"
  }
 },
 "nbformat": 4,
 "nbformat_minor": 5
}
