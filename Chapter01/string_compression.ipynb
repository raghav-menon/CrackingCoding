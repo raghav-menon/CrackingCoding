{
 "cells": [
  {
   "cell_type": "code",
   "execution_count": 39,
   "id": "78ae5b88",
   "metadata": {},
   "outputs": [],
   "source": [
    "sTr = 'aabbbbccwwwzzzzzzzzaaaa'"
   ]
  },
  {
   "cell_type": "code",
   "execution_count": 54,
   "id": "59a3fd08",
   "metadata": {},
   "outputs": [],
   "source": [
    "def str_comp(sT: str):\n",
    "    newsT = ''\n",
    "    L = len(sTr)\n",
    "    index = 0\n",
    "    while index < L-1:\n",
    "        count = 1\n",
    "        while index < L - 1 and sT[index] == sT[index+1]:\n",
    "                count +=1\n",
    "                index+=1\n",
    "        newsT= newsT +sT[index]+str(count)\n",
    "        index+=1\n",
    "    return newsT"
   ]
  },
  {
   "cell_type": "code",
   "execution_count": 55,
   "id": "4e6376bd",
   "metadata": {},
   "outputs": [
    {
     "data": {
      "text/plain": [
       "'a2b4c2w3z8a4'"
      ]
     },
     "execution_count": 55,
     "metadata": {},
     "output_type": "execute_result"
    }
   ],
   "source": [
    "str_comp(sTr)"
   ]
  },
  {
   "cell_type": "code",
   "execution_count": null,
   "id": "6b3b2231",
   "metadata": {},
   "outputs": [],
   "source": []
  }
 ],
 "metadata": {
  "kernelspec": {
   "display_name": "Python 3 (ipykernel)",
   "language": "python",
   "name": "python3"
  },
  "language_info": {
   "codemirror_mode": {
    "name": "ipython",
    "version": 3
   },
   "file_extension": ".py",
   "mimetype": "text/x-python",
   "name": "python",
   "nbconvert_exporter": "python",
   "pygments_lexer": "ipython3",
   "version": "3.9.7"
  }
 },
 "nbformat": 4,
 "nbformat_minor": 5
}
