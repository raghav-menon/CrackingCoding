{
 "cells": [
  {
   "cell_type": "code",
   "execution_count": 13,
   "id": "939854f6",
   "metadata": {},
   "outputs": [],
   "source": [
    "sTr1 = 'pale'\n",
    "sTr2 = 'pale'"
   ]
  },
  {
   "cell_type": "code",
   "execution_count": 16,
   "id": "221a285a",
   "metadata": {},
   "outputs": [],
   "source": [
    "def editDisone(sTr1, sTr2):\n",
    "    \n",
    "    m = len(sTr1)\n",
    "    n = len(sTr2)\n",
    "    \n",
    "    if abs(m-n) > 1 :     # means more than one character has to be changed and the edit distance > 1\n",
    "        return False\n",
    "    \n",
    "    count = 0             # calculating the edit distance\n",
    "    \n",
    "    i = 0\n",
    "    j = 0\n",
    "    \n",
    "    while i<m and j<n:\n",
    "        \n",
    "        if sTr1[i] != sTr2[j]:\n",
    "            \n",
    "            if count > 1:        # means edit distance is > 1    \n",
    "                return False\n",
    "            \n",
    "            if m > n:\n",
    "                i+=1\n",
    "            elif m < n:\n",
    "                j+=1\n",
    "            else:\n",
    "                i+=1\n",
    "                j+=1\n",
    "            \n",
    "            count +=1\n",
    "        \n",
    "        else:\n",
    "            i+=1\n",
    "            j+=1\n",
    "        \n",
    "    if i<m or j<n:\n",
    "        count+=1\n",
    "        \n",
    "    return count == 1\n",
    "    "
   ]
  },
  {
   "cell_type": "code",
   "execution_count": 17,
   "id": "1b9a8ea4",
   "metadata": {},
   "outputs": [
    {
     "data": {
      "text/plain": [
       "True"
      ]
     },
     "execution_count": 17,
     "metadata": {},
     "output_type": "execute_result"
    }
   ],
   "source": [
    "editDisone(sTr1, sTr2)"
   ]
  },
  {
   "cell_type": "code",
   "execution_count": null,
   "id": "b753bcc4",
   "metadata": {},
   "outputs": [],
   "source": []
  }
 ],
 "metadata": {
  "kernelspec": {
   "display_name": "Python 3 (ipykernel)",
   "language": "python",
   "name": "python3"
  },
  "language_info": {
   "codemirror_mode": {
    "name": "ipython",
    "version": 3
   },
   "file_extension": ".py",
   "mimetype": "text/x-python",
   "name": "python",
   "nbconvert_exporter": "python",
   "pygments_lexer": "ipython3",
   "version": "3.9.7"
  }
 },
 "nbformat": 4,
 "nbformat_minor": 5
}
