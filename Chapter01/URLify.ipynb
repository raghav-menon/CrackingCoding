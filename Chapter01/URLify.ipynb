{
 "cells": [
  {
   "cell_type": "code",
   "execution_count": 37,
   "id": "0068be2f",
   "metadata": {},
   "outputs": [],
   "source": [
    "sTr = \"My    name is Raghav Menon  \""
   ]
  },
  {
   "cell_type": "code",
   "execution_count": 44,
   "id": "e92331c7",
   "metadata": {},
   "outputs": [],
   "source": [
    "def URLify(sT:str):\n",
    "    sT = sT.strip()\n",
    "    L = len(sT)   ## Length of string removing the spaces at the end\n",
    "\n",
    "    space_count = sT.count(' ')\n",
    "    \n",
    "    new_len = L + 2*space_count\n",
    "    sT = list(sT)\n",
    "    sT.extend((new_len-L)*[0])\n",
    "    #for f in range(L - 2, new_len - 2):\n",
    "    #    sT.append('0')\n",
    "    \n",
    "    index = new_len - 1\n",
    "    for j in range(L-1,0, -1):\n",
    "        if sT[j] == ' ':\n",
    "            sT[index] = '0'\n",
    "            sT[index-1] = '2'\n",
    "            sT[index-2] = '%'\n",
    "            index = index - 3\n",
    "        else:\n",
    "            sT[index] = sT[j]\n",
    "            index = index - 1\n",
    "    return ''.join(sT)"
   ]
  },
  {
   "cell_type": "code",
   "execution_count": 45,
   "id": "a819de3a",
   "metadata": {},
   "outputs": [
    {
     "data": {
      "text/plain": [
       "'My%20%20%20%20name%20is%20Raghav%20Menon'"
      ]
     },
     "execution_count": 45,
     "metadata": {},
     "output_type": "execute_result"
    }
   ],
   "source": [
    "URLify(sTr)"
   ]
  },
  {
   "cell_type": "code",
   "execution_count": null,
   "id": "6bf06007",
   "metadata": {},
   "outputs": [],
   "source": []
  }
 ],
 "metadata": {
  "kernelspec": {
   "display_name": "Python 3 (ipykernel)",
   "language": "python",
   "name": "python3"
  },
  "language_info": {
   "codemirror_mode": {
    "name": "ipython",
    "version": 3
   },
   "file_extension": ".py",
   "mimetype": "text/x-python",
   "name": "python",
   "nbconvert_exporter": "python",
   "pygments_lexer": "ipython3",
   "version": "3.9.7"
  }
 },
 "nbformat": 4,
 "nbformat_minor": 5
}
